{
  "nbformat": 4,
  "nbformat_minor": 0,
  "metadata": {
    "colab": {
      "name": "exam-2.ipynb",
      "provenance": [],
      "collapsed_sections": []
    },
    "kernelspec": {
      "name": "python3",
      "display_name": "Python 3"
    },
    "accelerator": "GPU"
  },
  "cells": [
    {
      "cell_type": "code",
      "metadata": {
        "id": "xk8NS-wq15pP",
        "colab_type": "code",
        "colab": {}
      },
      "source": [
        "import random\n",
        "import numpy as np\n",
        "import matplotlib.pyplot as plt"
      ],
      "execution_count": null,
      "outputs": []
    },
    {
      "cell_type": "markdown",
      "metadata": {
        "id": "PKVJMLMUxoDN",
        "colab_type": "text"
      },
      "source": [
        " In recall model plot the dependency of the number of recalled words on the number of presented words for 2 sparsity levels  and  compare curves with theoretical prediction. \n"
      ]
    },
    {
      "cell_type": "markdown",
      "metadata": {
        "id": "guQe9kAKHcdh",
        "colab_type": "text"
      },
      "source": [
        "##Function for the 1rst Model (Sparsity = 0.2)"
      ]
    },
    {
      "cell_type": "code",
      "metadata": {
        "id": "VqMDY0Od29_H",
        "colab_type": "code",
        "colab": {}
      },
      "source": [
        "def recallSymM(L):\n",
        "  f = 0.2\n",
        "  N = 1e5\n",
        "  chunk = 1e3\n",
        "\n",
        "  nn = (int(chunk), int((N+chunk-1)//chunk))\n",
        "\n",
        "  M= np.zeros((L,L))\n",
        "  for _ in range (nn[1]):\n",
        "    xi= np.array(np.random.rand(nn[0],L) < f,dtype=int)\n",
        "    M+= xi.T.dot(xi)\n",
        "\n",
        "  Nw= np.empty(L)\n",
        "  Nw[:]= np.diag(M)\n",
        "  M-= np.diag(Nw)*100\n",
        "  rec= np.empty(2*L,dtype=int)\n",
        "  line= np.empty((L,))\n",
        "  prev= np.random.randint(L)\n",
        "  rec[0]=prev\n",
        "  curr= np.argmax(M[prev,:])\n",
        "  rec[1]=curr\n",
        "  for k in range(2,2*L):\n",
        "    line[:]=M[curr,:]\n",
        "    line[prev]=-100\n",
        "    prev=curr\n",
        "    curr=np.argmax(line)\n",
        "    rec[k]=curr\n",
        "  _, uIdx= np.unique(rec,return_index= True)\n",
        "  uRecall= rec[np.sort(uIdx)]\n",
        "  return uRecall, rec"
      ],
      "execution_count": null,
      "outputs": []
    },
    {
      "cell_type": "markdown",
      "metadata": {
        "id": "SXXrV28WHkEY",
        "colab_type": "text"
      },
      "source": [
        "##Function for the 2nd Model (Sparsity = 0.01)"
      ]
    },
    {
      "cell_type": "code",
      "metadata": {
        "id": "dFQXkYaxunFs",
        "colab_type": "code",
        "colab": {}
      },
      "source": [
        "def recallSymM2(L):\n",
        "  f = 0.01\n",
        "  N = 1e5\n",
        "  chunk = 1e3\n",
        "\n",
        "  nn = (int(chunk), int((N+chunk-1)//chunk))\n",
        "\n",
        "  M= np.zeros((L,L))\n",
        "  for _ in range (nn[1]):\n",
        "    xi= np.array(np.random.rand(nn[0],L) < f,dtype=int)\n",
        "    M+= xi.T.dot(xi)\n",
        "\n",
        "  Nw= np.empty(L)\n",
        "  Nw[:]= np.diag(M)\n",
        "  M-= np.diag(Nw)*100\n",
        "  rec= np.empty(2*L,dtype=int)\n",
        "  line= np.empty((L,))\n",
        "  prev= np.random.randint(L)\n",
        "  rec[0]=prev\n",
        "  curr= np.argmax(M[prev,:])\n",
        "  rec[1]=curr\n",
        "  for k in range(2,2*L):\n",
        "    line[:]=M[curr,:]\n",
        "    line[prev]=-100\n",
        "    prev=curr\n",
        "    curr=np.argmax(line)\n",
        "    rec[k]=curr\n",
        "  _, uIdx= np.unique(rec,return_index= True)\n",
        "  uRecall= rec[np.sort(uIdx)]\n",
        "  return uRecall, rec"
      ],
      "execution_count": null,
      "outputs": []
    },
    {
      "cell_type": "markdown",
      "metadata": {
        "id": "0CxjPWMHGu0j",
        "colab_type": "text"
      },
      "source": [
        "#### For the 1rst model, we get how much words are remembered on average"
      ]
    },
    {
      "cell_type": "code",
      "metadata": {
        "id": "D55kDjUQUHZf",
        "colab_type": "code",
        "colab": {}
      },
      "source": [
        "rc= np.empty((6,))\n",
        "#List of numbers of words\n",
        "Ls=[10,20,40,60,80,100]\n",
        "for kk in range (len(Ls)):\n",
        "  L=Ls[kk]\n",
        "  rec= np.empty((1000,))\n",
        "  for k in range (len(rec)):\n",
        "    rr = recallSymM(L)\n",
        "    rec[k] =  len(rr[0])\n",
        "  rc[kk]= rec.mean()"
      ],
      "execution_count": null,
      "outputs": []
    },
    {
      "cell_type": "markdown",
      "metadata": {
        "id": "xp5238vTHUCQ",
        "colab_type": "text"
      },
      "source": [
        "#### For the 2nd model, we get how much words are remembered on average"
      ]
    },
    {
      "cell_type": "code",
      "metadata": {
        "id": "7BOAxQRHus2H",
        "colab_type": "code",
        "colab": {}
      },
      "source": [
        "rc2= np.empty((6,))\n",
        "Ls=[10,20,40,60,80,100]\n",
        "for kk in range (len(Ls)):\n",
        "  L=Ls[kk]\n",
        "  rec= np.empty((1000,))\n",
        "  for k in range (len(rec)):\n",
        "    rr = recallSymM2(L)\n",
        "    rec[k] =  len(rr[0])\n",
        "  rc2[kk]= rec.mean()"
      ],
      "execution_count": null,
      "outputs": []
    },
    {
      "cell_type": "markdown",
      "metadata": {
        "id": "VhLzD3B7HXBb",
        "colab_type": "text"
      },
      "source": [
        "## Results"
      ]
    },
    {
      "cell_type": "code",
      "metadata": {
        "id": "XHz8fuQRuORa",
        "colab_type": "code",
        "colab": {
          "base_uri": "https://localhost:8080/",
          "height": 367
        },
        "outputId": "32007611-3640-46a3-8717-b002c1fec6f6"
      },
      "source": [
        "#Results for 1rst model\n",
        "print(rc)\n",
        "#results for second model\n",
        "print(rc2)\n",
        "#theretical results\n",
        "print(2.1*np.sqrt(np.array(Ls)))\n",
        "\n",
        "plt.plot(Ls,rc,'-o',Ls,2.1*np.sqrt(np.array(Ls)))\n",
        "plt.plot(Ls,rc2,'-o',Ls,2.1*np.sqrt(np.array(Ls)))"
      ],
      "execution_count": null,
      "outputs": [
        {
          "output_type": "stream",
          "text": [
            "[ 5.511  7.351  9.339 10.737 11.495 12.884]\n",
            "[ 6.284  9.103 13.148 15.43  18.027 19.421]\n",
            "[ 6.64078309  9.39148551 13.28156617 16.26653005 18.78297101 21.        ]\n",
            "ERROR! Session/line number was not unique in database. History logging moved to new session 59\n"
          ],
          "name": "stdout"
        },
        {
          "output_type": "execute_result",
          "data": {
            "text/plain": [
              "[<matplotlib.lines.Line2D at 0x7f45380a0a20>,\n",
              " <matplotlib.lines.Line2D at 0x7f45376fa080>]"
            ]
          },
          "metadata": {
            "tags": []
          },
          "execution_count": 141
        },
        {
          "output_type": "display_data",
          "data": {
            "image/png": "[encoded data removed]",
            "text/plain": [
              "<Figure size 432x288 with 1 Axes>"
            ]
          },
          "metadata": {
            "tags": []
          }
        }
      ]
    }
  ]
}